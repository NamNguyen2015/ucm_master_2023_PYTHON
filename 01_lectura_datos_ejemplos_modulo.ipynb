{
 "cells": [
  {
   "cell_type": "markdown",
   "id": "6837fff6",
   "metadata": {},
   "source": [
    "# Master BigData UCM 2023"
   ]
  },
  {
   "cell_type": "code",
   "execution_count": null,
   "id": "81398866",
   "metadata": {},
   "outputs": [],
   "source": [
    "import pandas as pd\n",
    "import matplotlib.pyplot as plt\n",
    "import seaborn as sns"
   ]
  },
  {
   "cell_type": "markdown",
   "id": "a10c7abe",
   "metadata": {},
   "source": [
    "¿Es necesario el código siguiente (que veréis en muchos notebooks publicados)?\n",
    "\n",
    "La respuesta es no, no es necesario.\n",
    "\n",
    "https://stackoverflow.com/questions/65934740/is-matplotlib-inline-still-needed"
   ]
  },
  {
   "cell_type": "code",
   "execution_count": null,
   "id": "74fe25da",
   "metadata": {},
   "outputs": [],
   "source": [
    "%matplotlib inline"
   ]
  },
  {
   "cell_type": "markdown",
   "id": "6833d36a",
   "metadata": {
    "id": "6833d36a"
   },
   "source": [
    "## 1. Datos vehículos a la venta 2016 en UK\n",
    "\n",
    "Propósito:\n",
    "\n",
    "- Facilitar la lectura del .csv que contiene los datos de este ejemplo\n",
    "\n"
   ]
  },
  {
   "cell_type": "markdown",
   "id": "dc30d908",
   "metadata": {},
   "source": [
    "### Carga de datos\n",
    "\n",
    "Este dataset tiene ya 7 años pero sigue siendo válido para nuestro propósito. \n",
    "\n",
    "La principal ventaja es que tiene una variale de grupo (o \"factor\") creada en español (la variable \"Tipo\") para facilitar los gráficos por tipo de vehículo."
   ]
  },
  {
   "cell_type": "code",
   "execution_count": null,
   "id": "a13c8361",
   "metadata": {},
   "outputs": [],
   "source": [
    "df = pd.read_csv(\"vehiculos_UK_2016.csv\",\n",
    "                sep = \"|\")"
   ]
  },
  {
   "cell_type": "code",
   "execution_count": null,
   "id": "ae7e6e45",
   "metadata": {},
   "outputs": [],
   "source": [
    "df.shape"
   ]
  },
  {
   "cell_type": "code",
   "execution_count": null,
   "id": "a37dc447",
   "metadata": {},
   "outputs": [],
   "source": [
    "df.dtypes"
   ]
  },
  {
   "cell_type": "code",
   "execution_count": null,
   "id": "3695b3d9",
   "metadata": {
    "scrolled": true
   },
   "outputs": [],
   "source": [
    "df.describe(include = 'all')"
   ]
  },
  {
   "cell_type": "code",
   "execution_count": null,
   "id": "cd6aeb5c",
   "metadata": {},
   "outputs": [],
   "source": [
    "pd.set_option('display.max_columns', None)\n",
    "df.describe(include = 'all')"
   ]
  },
  {
   "cell_type": "code",
   "execution_count": null,
   "id": "80161293",
   "metadata": {
    "scrolled": true
   },
   "outputs": [],
   "source": [
    "count_classes = pd.value_counts(df['Tipo'], sort = True)\n",
    "count_classes.plot(kind = 'bar', rot=0)\n",
    "plt.title(\"Tipos de vehículos UK 2016\")\n",
    "plt.xlabel(\"Tipo\")\n",
    "plt.ylabel(\"Frecuencia\");"
   ]
  },
  {
   "cell_type": "code",
   "execution_count": null,
   "id": "dba50a35",
   "metadata": {
    "scrolled": true
   },
   "outputs": [],
   "source": [
    "count_classes = pd.value_counts(df['Manufacturer'], sort = True)\n",
    "count_classes.plot(kind = 'barh')\n",
    "plt.title(\"Fabricantes de vehículos UK 2016\")\n",
    "plt.xlabel(\"Número de modelos a la venta\")\n",
    "plt.ylabel(\"Fabricante\");"
   ]
  },
  {
   "cell_type": "code",
   "execution_count": null,
   "id": "7bbf493f",
   "metadata": {},
   "outputs": [],
   "source": [
    "plt.scatter(df['EngineCapacity'], \n",
    "            df['MetricCombined'])\n",
    "\n",
    "plt.xlabel('Tamaño motor (cm3)')\n",
    "plt.ylabel('Consumo combinado')\n",
    "plt.show()"
   ]
  },
  {
   "cell_type": "markdown",
   "id": "ac0af125",
   "metadata": {
    "id": "6833d36a"
   },
   "source": [
    "## 2. Dataset COVID\n",
    "\n",
    "Propósito:\n",
    "\n",
    "- Leer este dataset desde un repositorio remoto (URL del ISCIII)\n",
    "\n"
   ]
  },
  {
   "cell_type": "code",
   "execution_count": null,
   "id": "dc494333",
   "metadata": {},
   "outputs": [],
   "source": [
    "covid = pd.read_csv('https://cnecovid.isciii.es/covid19/resources/casos_hosp_uci_def_sexo_edad_provres.csv')"
   ]
  },
  {
   "cell_type": "code",
   "execution_count": null,
   "id": "8aaa9aa5",
   "metadata": {
    "scrolled": false
   },
   "outputs": [],
   "source": [
    "covid.dtypes"
   ]
  },
  {
   "cell_type": "code",
   "execution_count": null,
   "id": "9f18d8ba",
   "metadata": {},
   "outputs": [],
   "source": [
    "covid.head()"
   ]
  },
  {
   "cell_type": "code",
   "execution_count": null,
   "id": "7c741a95",
   "metadata": {},
   "outputs": [],
   "source": [
    "covid['fecha'] = pd.to_datetime(covid['fecha'], \n",
    "                                format = '%Y-%m-%d')"
   ]
  },
  {
   "cell_type": "code",
   "execution_count": null,
   "id": "3bd922bb",
   "metadata": {},
   "outputs": [],
   "source": [
    "covid.dtypes"
   ]
  },
  {
   "cell_type": "code",
   "execution_count": null,
   "id": "cae31a4c",
   "metadata": {
    "scrolled": true
   },
   "outputs": [],
   "source": [
    "covid.describe(include = 'all')"
   ]
  },
  {
   "cell_type": "code",
   "execution_count": null,
   "id": "4f6bf60f",
   "metadata": {},
   "outputs": [],
   "source": [
    "count_classes = pd.value_counts(covid['grupo_edad'], sort = True)\n",
    "count_classes.plot(kind = 'bar', rot=0)\n",
    "plt.title(\"Grupos Edad en dataset covid\")\n",
    "plt.xlabel(\"Grupo Edad\")\n",
    "plt.ylabel(\"Frecuencia\");"
   ]
  }
 ],
 "metadata": {
  "kernelspec": {
   "display_name": "Python 3 (ipykernel)",
   "language": "python",
   "name": "python3"
  },
  "language_info": {
   "codemirror_mode": {
    "name": "ipython",
    "version": 3
   },
   "file_extension": ".py",
   "mimetype": "text/x-python",
   "name": "python",
   "nbconvert_exporter": "python",
   "pygments_lexer": "ipython3",
   "version": "3.10.6"
  }
 },
 "nbformat": 4,
 "nbformat_minor": 5
}
