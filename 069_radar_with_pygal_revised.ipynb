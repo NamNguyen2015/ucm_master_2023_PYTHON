{
 "cells": [
  {
   "cell_type": "markdown",
   "id": "2a10ff65",
   "metadata": {},
   "source": [
    "# Pygal\n",
    "\n",
    "He seguido las recomendaciones sobre output de esta librería de aquí:\n",
    "\n",
    "https://www.pluralsight.com/guides/outputs-in-pygal"
   ]
  },
  {
   "cell_type": "code",
   "execution_count": null,
   "id": "8c6a94ca",
   "metadata": {},
   "outputs": [],
   "source": [
    "!pip install pygal\n",
    "!pip install lxml\n",
    "!pip install cairosvg\n",
    "!pip install cssselect\n",
    "!pip install tinycss"
   ]
  },
  {
   "cell_type": "code",
   "execution_count": 1,
   "id": "18090fbb",
   "metadata": {},
   "outputs": [],
   "source": [
    "import pygal\n",
    "import lxml\n",
    "import cairosvg\n"
   ]
  },
  {
   "cell_type": "code",
   "execution_count": 2,
   "id": "c561c36b",
   "metadata": {},
   "outputs": [],
   "source": [
    "pygal.Bar()(1, 3, 3, 7)(1, 6, 6, 4).render_to_file('prueba_pygal.svg')"
   ]
  },
  {
   "cell_type": "code",
   "execution_count": 3,
   "id": "2b0f140d",
   "metadata": {},
   "outputs": [],
   "source": [
    "radar_chart = pygal.Radar()\n",
    "radar_chart.title = 'V8 benchmark results'\n",
    "radar_chart.x_labels = ['Richards', 'DeltaBlue', 'Crypto', 'RayTrace', 'EarleyBoyer', 'RegExp', 'Splay', 'NavierStokes']\n",
    "radar_chart.add('Chrome', [6395, 8212, 7520, 7218, 12464, 1660, 2123, 8607])\n",
    "radar_chart.add('Firefox', [7473, 8099, 11700, 2651, 6361, 1044, 3797, 9450])\n",
    "radar_chart.add('Opera', [3472, 2933, 4203, 5229, 5810, 1828, 9013, 4669])\n",
    "radar_chart.add('IE', [43, 41, 59, 79, 144, 136, 34, 102])\n",
    "\n",
    "radar_chart.render_to_file('radar_chart_with_pygal.svg') \n",
    "#radar_chart.render_in_browser()\n"
   ]
  }
 ],
 "metadata": {
  "kernelspec": {
   "display_name": "Python 3 (ipykernel)",
   "language": "python",
   "name": "python3"
  },
  "language_info": {
   "codemirror_mode": {
    "name": "ipython",
    "version": 3
   },
   "file_extension": ".py",
   "mimetype": "text/x-python",
   "name": "python",
   "nbconvert_exporter": "python",
   "pygments_lexer": "ipython3",
   "version": "3.10.6"
  }
 },
 "nbformat": 4,
 "nbformat_minor": 5
}
