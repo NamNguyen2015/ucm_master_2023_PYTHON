{
 "cells": [
  {
   "cell_type": "markdown",
   "id": "0f812401",
   "metadata": {},
   "source": [
    "# Master BigData UCM 2023"
   ]
  },
  {
   "cell_type": "markdown",
   "id": "6833d36a",
   "metadata": {
    "id": "6833d36a"
   },
   "source": [
    "## 8. Mapas con leaflet / Folium\n",
    "\n"
   ]
  },
  {
   "cell_type": "code",
   "execution_count": 3,
   "id": "2f22ebd3",
   "metadata": {},
   "outputs": [],
   "source": [
    "import folium\n",
    "from folium.plugins import HeatMap\n",
    "\n",
    "import numpy as np"
   ]
  },
  {
   "cell_type": "code",
   "execution_count": 4,
   "id": "b66088e0",
   "metadata": {},
   "outputs": [],
   "source": [
    "data = (\n",
    "    np.random.normal(size=(100, 3)) * np.array([[1, 1, 1]]) + np.array([[48, 5, 1]])\n",
    ").tolist()"
   ]
  },
  {
   "cell_type": "code",
   "execution_count": 5,
   "id": "7fe80cfc",
   "metadata": {},
   "outputs": [
    {
     "data": {
      "text/html": [
       "<div style=\"width:100%;\"><div style=\"position:relative;width:100%;height:0;padding-bottom:60%;\"><span style=\"color:#565656\">Make this Notebook Trusted to load map: File -> Trust Notebook</span><iframe srcdoc=\"&lt;!DOCTYPE html&gt;\n",
       "&lt;html&gt;\n",
       "&lt;head&gt;\n",
       "    \n",
       "    &lt;meta http-equiv=&quot;content-type&quot; content=&quot;text/html; charset=UTF-8&quot; /&gt;\n",
       "    \n",
       "        &lt;script&gt;\n",
       "            L_NO_TOUCH = false;\n",
       "            L_DISABLE_3D = false;\n",
       "        &lt;/script&gt;\n",
       "    \n",
       "    &lt;style&gt;html, body {width: 100%;height: 100%;margin: 0;padding: 0;}&lt;/style&gt;\n",
       "    &lt;style&gt;#map {position:absolute;top:0;bottom:0;right:0;left:0;}&lt;/style&gt;\n",
       "    &lt;script src=&quot;https://cdn.jsdelivr.net/npm/leaflet@1.9.3/dist/leaflet.js&quot;&gt;&lt;/script&gt;\n",
       "    &lt;script src=&quot;https://code.jquery.com/jquery-1.12.4.min.js&quot;&gt;&lt;/script&gt;\n",
       "    &lt;script src=&quot;https://cdn.jsdelivr.net/npm/bootstrap@5.2.2/dist/js/bootstrap.bundle.min.js&quot;&gt;&lt;/script&gt;\n",
       "    &lt;script src=&quot;https://cdnjs.cloudflare.com/ajax/libs/Leaflet.awesome-markers/2.0.2/leaflet.awesome-markers.js&quot;&gt;&lt;/script&gt;\n",
       "    &lt;link rel=&quot;stylesheet&quot; href=&quot;https://cdn.jsdelivr.net/npm/leaflet@1.9.3/dist/leaflet.css&quot;/&gt;\n",
       "    &lt;link rel=&quot;stylesheet&quot; href=&quot;https://cdn.jsdelivr.net/npm/bootstrap@5.2.2/dist/css/bootstrap.min.css&quot;/&gt;\n",
       "    &lt;link rel=&quot;stylesheet&quot; href=&quot;https://netdna.bootstrapcdn.com/bootstrap/3.0.0/css/bootstrap.min.css&quot;/&gt;\n",
       "    &lt;link rel=&quot;stylesheet&quot; href=&quot;https://cdn.jsdelivr.net/npm/@fortawesome/fontawesome-free@6.2.0/css/all.min.css&quot;/&gt;\n",
       "    &lt;link rel=&quot;stylesheet&quot; href=&quot;https://cdnjs.cloudflare.com/ajax/libs/Leaflet.awesome-markers/2.0.2/leaflet.awesome-markers.css&quot;/&gt;\n",
       "    &lt;link rel=&quot;stylesheet&quot; href=&quot;https://cdn.jsdelivr.net/gh/python-visualization/folium/folium/templates/leaflet.awesome.rotate.min.css&quot;/&gt;\n",
       "    \n",
       "            &lt;meta name=&quot;viewport&quot; content=&quot;width=device-width,\n",
       "                initial-scale=1.0, maximum-scale=1.0, user-scalable=no&quot; /&gt;\n",
       "            &lt;style&gt;\n",
       "                #map_f7a56a52a2580e69802591029eff24c2 {\n",
       "                    position: relative;\n",
       "                    width: 100.0%;\n",
       "                    height: 100.0%;\n",
       "                    left: 0.0%;\n",
       "                    top: 0.0%;\n",
       "                }\n",
       "                .leaflet-container { font-size: 1rem; }\n",
       "            &lt;/style&gt;\n",
       "        \n",
       "    &lt;script src=&quot;https://cdn.jsdelivr.net/gh/python-visualization/folium@main/folium/templates/leaflet_heat.min.js&quot;&gt;&lt;/script&gt;\n",
       "&lt;/head&gt;\n",
       "&lt;body&gt;\n",
       "    \n",
       "    \n",
       "            &lt;div class=&quot;folium-map&quot; id=&quot;map_f7a56a52a2580e69802591029eff24c2&quot; &gt;&lt;/div&gt;\n",
       "        \n",
       "&lt;/body&gt;\n",
       "&lt;script&gt;\n",
       "    \n",
       "    \n",
       "            var map_f7a56a52a2580e69802591029eff24c2 = L.map(\n",
       "                &quot;map_f7a56a52a2580e69802591029eff24c2&quot;,\n",
       "                {\n",
       "                    center: [48.0, 5.0],\n",
       "                    crs: L.CRS.EPSG3857,\n",
       "                    zoom: 6,\n",
       "                    zoomControl: true,\n",
       "                    preferCanvas: false,\n",
       "                }\n",
       "            );\n",
       "\n",
       "            \n",
       "\n",
       "        \n",
       "    \n",
       "            var tile_layer_68b484024af362846e872d18aefe81fc = L.tileLayer(\n",
       "                &quot;https://stamen-tiles-{s}.a.ssl.fastly.net/toner/{z}/{x}/{y}.png&quot;,\n",
       "                {&quot;attribution&quot;: &quot;Map tiles by \\u003ca target=\\&quot;_blank\\&quot; href=\\&quot;http://stamen.com\\&quot;\\u003eStamen Design\\u003c/a\\u003e, under \\u003ca target=\\&quot;_blank\\&quot; href=\\&quot;http://creativecommons.org/licenses/by/3.0\\&quot;\\u003eCC BY 3.0\\u003c/a\\u003e. Data by \\u0026copy; \\u003ca target=\\&quot;_blank\\&quot; href=\\&quot;http://openstreetmap.org\\&quot;\\u003eOpenStreetMap\\u003c/a\\u003e, under \\u003ca target=\\&quot;_blank\\&quot; href=\\&quot;http://www.openstreetmap.org/copyright\\&quot;\\u003eODbL\\u003c/a\\u003e.&quot;, &quot;detectRetina&quot;: false, &quot;maxNativeZoom&quot;: 18, &quot;maxZoom&quot;: 18, &quot;minZoom&quot;: 0, &quot;noWrap&quot;: false, &quot;opacity&quot;: 1, &quot;subdomains&quot;: &quot;abc&quot;, &quot;tms&quot;: false}\n",
       "            ).addTo(map_f7a56a52a2580e69802591029eff24c2);\n",
       "        \n",
       "    \n",
       "            var heat_map_e550282cde0a28f4aff2767365a16ed6 = L.heatLayer(\n",
       "                [[47.513054019570774, 5.361373341889324, 3.029970346506646], [48.103186943603404, 5.7730673212581864, 1.8659646629802351], [46.22827508197661, 5.388544839019365, 0.7277632226568412], [47.092090485803006, 6.0994337137858405, -0.06787290584456396], [47.653443545313785, 2.3155993565731725, 0.2076385483892368], [48.604442199559024, 4.98068650780071, 2.345404322703242], [46.17307014846362, 4.493411900924184, 1.3259738021141552], [48.18979551948482, 5.400839499993645, 0.11253293943532372], [48.434116651679105, 5.57199204675579, -0.23362865763505192], [48.96823309012165, 5.947097897608898, -0.13465211744115213], [46.32844539514957, 6.635767889349596, 1.4951631303533301], [48.290181615348935, 5.735608734391211, 2.0089267946564138], [48.309762453141666, 2.7155988231350996, 1.056669249596532], [47.24728282786166, 4.223846218039849, 1.5146025135850323], [47.77198981398314, 3.676172512111177, -0.23387152071680872], [48.59178378456397, 7.669206733967428, -0.776925726858225], [48.31366273602419, 4.873004254361506, 0.45760628945713866], [48.56997093238614, 4.8116623506153875, -0.27585397248733656], [47.138082418323904, 6.8880933766440835, 1.9439686046107543], [47.36361850978108, 5.002775396656976, 1.406088442914827], [47.58491315581244, 5.232503017031916, 1.9307667088596288], [48.112553315884085, 4.832858738653314, -1.0206911816020035], [47.21545209597075, 3.7260616750641784, 1.7426043852432889], [47.94452227474293, 7.755764024250843, 2.356375367440577], [47.612123276205516, 6.28369505886961, 0.7296584617820281], [47.49364193702862, 5.765816615715966, -0.787120663598831], [47.700944349220855, 4.81018529798661, 1.423954061720065], [47.80740493435974, 6.676678500760683, 0.5328975791360904], [48.32002154698077, 4.508074918824097, 1.4846428618910326], [48.247814615822804, 4.339492634100444, 1.361579134475737], [49.299164197654314, 4.844602704916733, 1.9803950392813245], [51.32345330474083, 5.062602683678558, -0.7117683615481023], [47.567614593125285, 5.159028043983149, 1.0914131659887942], [46.94025476128074, 4.58629432225935, 2.1844099935934773], [47.45282056931395, 6.0862314221272475, 1.6837343078168632], [48.98069655760794, 4.834363979984235, 0.804586352551817], [46.2764767439535, 5.4548666141618005, 3.8529976741666396], [48.9659063794532, 4.995140790789282, 3.0049635993564285], [47.33473888313924, 4.864501816498575, 2.1235157994272598], [48.651593926803045, 3.295097531423103, 0.43116090147373776], [47.28406323130825, 6.149852248234949, 1.4040865368825646], [48.46383853430177, 5.402796004537752, 0.9241050953788622], [48.05185514308076, 5.661114117176361, 0.6630645096590988], [49.7526054444813, 6.207194500401734, -0.011119778002205205], [46.75747944971764, 4.995189544147003, 1.5922120122865888], [49.212488503088004, 5.568094410484663, 0.37630859580748155], [46.44452522362666, 4.703775209812953, 1.8477074646283733], [47.73738409557422, 6.788074422938441, 0.9880706395425739], [47.2691655654207, 5.289976041237562, 1.9625940255577963], [46.709404390032304, 6.578747557127032, 1.284545050527421], [47.61449089413707, 2.830626996612844, -0.1357546707053503], [47.18371809462648, 4.62949449644655, 1.0433459649312837], [49.67393253945794, 4.9952338617189875, 1.1030574876073618], [49.496278925422516, 5.46346882329101, 2.075780157129132], [48.108100797112876, 4.708494544923259, 0.7338760284220457], [49.00655938648221, 5.213012606119391, 1.6505668676102714], [49.017351988873045, 3.305236050127438, 0.3146368530261108], [49.782866648248586, 3.9553187786812423, 0.980815983242596], [48.20887919240821, 4.86864415694068, -1.4274589038389571], [47.14559192731624, 4.72097841497213, 1.2350911896273047], [48.50262662683327, 4.664021557556981, 2.142645171921652], [49.08424991907005, 6.097513487472037, 0.4993074533320191], [48.20930971060663, 3.1486562994893275, -0.23530469747864036], [47.14000008947385, 6.326168656265616, 1.21014991461327], [46.98285470615691, 4.529528442489849, 2.3513788892326697], [46.893098460924364, 5.141376534975431, 2.8193322517743944], [49.64900944974185, 4.811565757740388, 0.7086873156830689], [48.92866319799011, 4.711626129670772, 0.011780281202379062], [46.731020320404326, 5.550441419695014, 1.1200492260699408], [47.69685395891851, 4.6491112818135285, 3.025779591120537], [48.26603155913218, 3.8762257064808, 2.224787603879844], [48.40837557484859, 5.656709744607737, -0.021816953907053405], [46.274810029803376, 5.037595294494033, 2.7986535306678975], [48.481728308775665, 5.088191243572461, -0.13026562410941955], [48.013078125965436, 5.832194128944401, -0.14177721556187084], [46.85755242017967, 4.781070070999262, 1.5583814923130785], [48.222476864714, 4.4747550214314185, 1.1681032801015552], [47.203815999469526, 5.096737042988624, 2.996446419279465], [46.89424915590418, 5.629032163915736, 1.2791020421673724], [46.93381420106872, 3.072187867250224, 0.9272287016130698], [47.88114752397716, 4.44471512370836, 1.1921269201790747], [48.05617440684125, 5.244282354638195, 0.17308506996977147], [49.83030208813929, 4.62129492316019, 1.5871433635720344], [47.29132449731711, 4.213449342938469, 0.9806367919356775], [47.66119902769148, 5.1098153471950685, 0.24187485985174573], [47.17572944795906, 4.937576229943707, 1.5742368136223959], [48.294290766983785, 7.511549039803237, 1.8506519560625891], [48.63567238998563, 6.533952031878923, 0.33456517654539164], [50.07621064559928, 5.347196827008299, 1.85857670185749], [46.804942241514084, 3.720718383836174, 0.1444183119069048], [46.97074955607827, 5.515733330651431, 1.866410972570482], [47.60544056509359, 4.419695246638864, 2.1944786690704903], [48.9384471392065, 4.713934323001692, 1.2940962588688771], [47.09969575226386, 5.648102500334429, 1.7007635109345776], [47.048377097581934, 3.714415001189309, 1.4579423095024138], [48.884075112057594, 5.007641751114784, 2.3801683451118736], [47.71715079777067, 4.58412793138936, -0.37229895572219407], [48.68230361022505, 4.096270716442551, -0.4424076095087113], [48.81843995520611, 3.870216626088257, 2.557900605662662], [46.504559760832386, 4.739371019050694, 1.5900254116343837]],\n",
       "                {&quot;blur&quot;: 15, &quot;maxZoom&quot;: 18, &quot;minOpacity&quot;: 0.5, &quot;radius&quot;: 25}\n",
       "            ).addTo(map_f7a56a52a2580e69802591029eff24c2);\n",
       "        \n",
       "&lt;/script&gt;\n",
       "&lt;/html&gt;\" style=\"position:absolute;width:100%;height:100%;left:0;top:0;border:none !important;\" allowfullscreen webkitallowfullscreen mozallowfullscreen></iframe></div></div>"
      ],
      "text/plain": [
       "<folium.folium.Map at 0x7f81bbc882b0>"
      ]
     },
     "execution_count": 5,
     "metadata": {},
     "output_type": "execute_result"
    }
   ],
   "source": [
    "m = folium.Map([48.0, 5.0], \n",
    "               tiles=\"stamentoner\", \n",
    "               zoom_start=6)\n",
    "\n",
    "HeatMap(data).add_to(m)\n",
    "\n",
    "m"
   ]
  }
 ],
 "metadata": {
  "kernelspec": {
   "display_name": "Python 3 (ipykernel)",
   "language": "python",
   "name": "python3"
  },
  "language_info": {
   "codemirror_mode": {
    "name": "ipython",
    "version": 3
   },
   "file_extension": ".py",
   "mimetype": "text/x-python",
   "name": "python",
   "nbconvert_exporter": "python",
   "pygments_lexer": "ipython3",
   "version": "3.10.6"
  }
 },
 "nbformat": 4,
 "nbformat_minor": 5
}
