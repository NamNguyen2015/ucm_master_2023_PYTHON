{
 "cells": [
  {
   "cell_type": "markdown",
   "id": "0f812401",
   "metadata": {},
   "source": [
    "# Master BigData UCM 2023"
   ]
  },
  {
   "cell_type": "markdown",
   "id": "6833d36a",
   "metadata": {
    "id": "6833d36a"
   },
   "source": [
    "## 1. Datos COVID\n",
    "\n"
   ]
  },
  {
   "cell_type": "code",
   "execution_count": 1,
   "id": "2f22ebd3",
   "metadata": {},
   "outputs": [],
   "source": [
    "import pandas as pd\n",
    "import matplotlib.pyplot as plt\n",
    "import seaborn as sns"
   ]
  },
  {
   "cell_type": "code",
   "execution_count": 2,
   "id": "7b01436a",
   "metadata": {},
   "outputs": [],
   "source": [
    "import plotnine\n",
    "from plotnine import *"
   ]
  },
  {
   "cell_type": "markdown",
   "id": "dc45e38a",
   "metadata": {},
   "source": [
    "### Carga de datos\n",
    "\n",
    "A partir del fichero ya guardado en disco de su lectura y primer pre-proceso"
   ]
  },
  {
   "cell_type": "code",
   "execution_count": 3,
   "id": "92cf5e9f",
   "metadata": {
    "scrolled": true
   },
   "outputs": [],
   "source": [
    "covid = pd.read_pickle(\"datos_covid.pkl\")"
   ]
  },
  {
   "cell_type": "code",
   "execution_count": 4,
   "id": "f3fbd86e",
   "metadata": {},
   "outputs": [
    {
     "data": {
      "text/plain": [
       "(1299030, 8)"
      ]
     },
     "execution_count": 4,
     "metadata": {},
     "output_type": "execute_result"
    }
   ],
   "source": [
    "covid.shape"
   ]
  },
  {
   "cell_type": "code",
   "execution_count": 5,
   "id": "84d30206",
   "metadata": {
    "scrolled": true
   },
   "outputs": [
    {
     "name": "stderr",
     "output_type": "stream",
     "text": [
      "/tmp/ipykernel_83338/1103914288.py:1: FutureWarning: Treating datetime data as categorical rather than numeric in `.describe` is deprecated and will be removed in a future version of pandas. Specify `datetime_is_numeric=True` to silence this warning and adopt the future behavior now.\n"
     ]
    },
    {
     "data": {
      "text/html": [
       "<div>\n",
       "<style scoped>\n",
       "    .dataframe tbody tr th:only-of-type {\n",
       "        vertical-align: middle;\n",
       "    }\n",
       "\n",
       "    .dataframe tbody tr th {\n",
       "        vertical-align: top;\n",
       "    }\n",
       "\n",
       "    .dataframe thead th {\n",
       "        text-align: right;\n",
       "    }\n",
       "</style>\n",
       "<table border=\"1\" class=\"dataframe\">\n",
       "  <thead>\n",
       "    <tr style=\"text-align: right;\">\n",
       "      <th></th>\n",
       "      <th>provincia_iso</th>\n",
       "      <th>sexo</th>\n",
       "      <th>grupo_edad</th>\n",
       "      <th>fecha</th>\n",
       "      <th>num_casos</th>\n",
       "      <th>num_hosp</th>\n",
       "      <th>num_uci</th>\n",
       "      <th>num_def</th>\n",
       "    </tr>\n",
       "  </thead>\n",
       "  <tbody>\n",
       "    <tr>\n",
       "      <th>count</th>\n",
       "      <td>1274520</td>\n",
       "      <td>1299030</td>\n",
       "      <td>1299030</td>\n",
       "      <td>1299030</td>\n",
       "      <td>1.299030e+06</td>\n",
       "      <td>1.299030e+06</td>\n",
       "      <td>1.299030e+06</td>\n",
       "      <td>1.299030e+06</td>\n",
       "    </tr>\n",
       "    <tr>\n",
       "      <th>unique</th>\n",
       "      <td>52</td>\n",
       "      <td>3</td>\n",
       "      <td>10</td>\n",
       "      <td>817</td>\n",
       "      <td>NaN</td>\n",
       "      <td>NaN</td>\n",
       "      <td>NaN</td>\n",
       "      <td>NaN</td>\n",
       "    </tr>\n",
       "    <tr>\n",
       "      <th>top</th>\n",
       "      <td>A</td>\n",
       "      <td>H</td>\n",
       "      <td>0-9</td>\n",
       "      <td>2020-01-01 00:00:00</td>\n",
       "      <td>NaN</td>\n",
       "      <td>NaN</td>\n",
       "      <td>NaN</td>\n",
       "      <td>NaN</td>\n",
       "    </tr>\n",
       "    <tr>\n",
       "      <th>freq</th>\n",
       "      <td>24510</td>\n",
       "      <td>433010</td>\n",
       "      <td>129903</td>\n",
       "      <td>1590</td>\n",
       "      <td>NaN</td>\n",
       "      <td>NaN</td>\n",
       "      <td>NaN</td>\n",
       "      <td>NaN</td>\n",
       "    </tr>\n",
       "    <tr>\n",
       "      <th>first</th>\n",
       "      <td>NaN</td>\n",
       "      <td>NaN</td>\n",
       "      <td>NaN</td>\n",
       "      <td>2020-01-01 00:00:00</td>\n",
       "      <td>NaN</td>\n",
       "      <td>NaN</td>\n",
       "      <td>NaN</td>\n",
       "      <td>NaN</td>\n",
       "    </tr>\n",
       "    <tr>\n",
       "      <th>last</th>\n",
       "      <td>NaN</td>\n",
       "      <td>NaN</td>\n",
       "      <td>NaN</td>\n",
       "      <td>2022-03-27 00:00:00</td>\n",
       "      <td>NaN</td>\n",
       "      <td>NaN</td>\n",
       "      <td>NaN</td>\n",
       "      <td>NaN</td>\n",
       "    </tr>\n",
       "    <tr>\n",
       "      <th>mean</th>\n",
       "      <td>NaN</td>\n",
       "      <td>NaN</td>\n",
       "      <td>NaN</td>\n",
       "      <td>NaN</td>\n",
       "      <td>8.916302e+00</td>\n",
       "      <td>4.002325e-01</td>\n",
       "      <td>3.814539e-02</td>\n",
       "      <td>7.993349e-02</td>\n",
       "    </tr>\n",
       "    <tr>\n",
       "      <th>std</th>\n",
       "      <td>NaN</td>\n",
       "      <td>NaN</td>\n",
       "      <td>NaN</td>\n",
       "      <td>NaN</td>\n",
       "      <td>5.078917e+01</td>\n",
       "      <td>2.523791e+00</td>\n",
       "      <td>3.111515e-01</td>\n",
       "      <td>8.045517e-01</td>\n",
       "    </tr>\n",
       "    <tr>\n",
       "      <th>min</th>\n",
       "      <td>NaN</td>\n",
       "      <td>NaN</td>\n",
       "      <td>NaN</td>\n",
       "      <td>NaN</td>\n",
       "      <td>0.000000e+00</td>\n",
       "      <td>0.000000e+00</td>\n",
       "      <td>0.000000e+00</td>\n",
       "      <td>0.000000e+00</td>\n",
       "    </tr>\n",
       "    <tr>\n",
       "      <th>25%</th>\n",
       "      <td>NaN</td>\n",
       "      <td>NaN</td>\n",
       "      <td>NaN</td>\n",
       "      <td>NaN</td>\n",
       "      <td>0.000000e+00</td>\n",
       "      <td>0.000000e+00</td>\n",
       "      <td>0.000000e+00</td>\n",
       "      <td>0.000000e+00</td>\n",
       "    </tr>\n",
       "    <tr>\n",
       "      <th>50%</th>\n",
       "      <td>NaN</td>\n",
       "      <td>NaN</td>\n",
       "      <td>NaN</td>\n",
       "      <td>NaN</td>\n",
       "      <td>0.000000e+00</td>\n",
       "      <td>0.000000e+00</td>\n",
       "      <td>0.000000e+00</td>\n",
       "      <td>0.000000e+00</td>\n",
       "    </tr>\n",
       "    <tr>\n",
       "      <th>75%</th>\n",
       "      <td>NaN</td>\n",
       "      <td>NaN</td>\n",
       "      <td>NaN</td>\n",
       "      <td>NaN</td>\n",
       "      <td>4.000000e+00</td>\n",
       "      <td>0.000000e+00</td>\n",
       "      <td>0.000000e+00</td>\n",
       "      <td>0.000000e+00</td>\n",
       "    </tr>\n",
       "    <tr>\n",
       "      <th>max</th>\n",
       "      <td>NaN</td>\n",
       "      <td>NaN</td>\n",
       "      <td>NaN</td>\n",
       "      <td>NaN</td>\n",
       "      <td>3.749000e+03</td>\n",
       "      <td>2.710000e+02</td>\n",
       "      <td>3.500000e+01</td>\n",
       "      <td>1.000000e+02</td>\n",
       "    </tr>\n",
       "  </tbody>\n",
       "</table>\n",
       "</div>"
      ],
      "text/plain": [
       "       provincia_iso     sexo grupo_edad                fecha     num_casos  \\\n",
       "count        1274520  1299030    1299030              1299030  1.299030e+06   \n",
       "unique            52        3         10                  817           NaN   \n",
       "top                A        H        0-9  2020-01-01 00:00:00           NaN   \n",
       "freq           24510   433010     129903                 1590           NaN   \n",
       "first            NaN      NaN        NaN  2020-01-01 00:00:00           NaN   \n",
       "last             NaN      NaN        NaN  2022-03-27 00:00:00           NaN   \n",
       "mean             NaN      NaN        NaN                  NaN  8.916302e+00   \n",
       "std              NaN      NaN        NaN                  NaN  5.078917e+01   \n",
       "min              NaN      NaN        NaN                  NaN  0.000000e+00   \n",
       "25%              NaN      NaN        NaN                  NaN  0.000000e+00   \n",
       "50%              NaN      NaN        NaN                  NaN  0.000000e+00   \n",
       "75%              NaN      NaN        NaN                  NaN  4.000000e+00   \n",
       "max              NaN      NaN        NaN                  NaN  3.749000e+03   \n",
       "\n",
       "            num_hosp       num_uci       num_def  \n",
       "count   1.299030e+06  1.299030e+06  1.299030e+06  \n",
       "unique           NaN           NaN           NaN  \n",
       "top              NaN           NaN           NaN  \n",
       "freq             NaN           NaN           NaN  \n",
       "first            NaN           NaN           NaN  \n",
       "last             NaN           NaN           NaN  \n",
       "mean    4.002325e-01  3.814539e-02  7.993349e-02  \n",
       "std     2.523791e+00  3.111515e-01  8.045517e-01  \n",
       "min     0.000000e+00  0.000000e+00  0.000000e+00  \n",
       "25%     0.000000e+00  0.000000e+00  0.000000e+00  \n",
       "50%     0.000000e+00  0.000000e+00  0.000000e+00  \n",
       "75%     0.000000e+00  0.000000e+00  0.000000e+00  \n",
       "max     2.710000e+02  3.500000e+01  1.000000e+02  "
      ]
     },
     "execution_count": 5,
     "metadata": {},
     "output_type": "execute_result"
    }
   ],
   "source": [
    "covid.describe(include = 'all')"
   ]
  },
  {
   "cell_type": "markdown",
   "id": "6b47303b",
   "metadata": {},
   "source": [
    "# 2. Visualizaciones con ggplot\n",
    "\n",
    "Además del contenido recogido en la docu. teórica, es aconsejable seguir este excelente (y práctico) tutorial:\n",
    "\n",
    "https://realpython.com/ggplot-python/\n"
   ]
  },
  {
   "cell_type": "markdown",
   "id": "9e953946",
   "metadata": {},
   "source": [
    "## 2.1 Barplot por sexo y edad\n",
    "\n"
   ]
  },
  {
   "cell_type": "code",
   "execution_count": 8,
   "id": "8e09d87d",
   "metadata": {},
   "outputs": [
    {
     "name": "stderr",
     "output_type": "stream",
     "text": [
      "/tmp/ipykernel_83338/646254824.py:1: FutureWarning: The default value of numeric_only in DataFrameGroupBy.sum is deprecated. In a future version, numeric_only will default to False. Either specify numeric_only or select only columns which should be valid for the function.\n"
     ]
    }
   ],
   "source": [
    "covid2 = covid.groupby(['sexo', 'grupo_edad']).sum()\n",
    "covid2 = pd.DataFrame(covid2.to_records())\n"
   ]
  },
  {
   "cell_type": "code",
   "execution_count": 9,
   "id": "2fc56d92",
   "metadata": {},
   "outputs": [
    {
     "data": {
      "text/html": [
       "<div>\n",
       "<style scoped>\n",
       "    .dataframe tbody tr th:only-of-type {\n",
       "        vertical-align: middle;\n",
       "    }\n",
       "\n",
       "    .dataframe tbody tr th {\n",
       "        vertical-align: top;\n",
       "    }\n",
       "\n",
       "    .dataframe thead th {\n",
       "        text-align: right;\n",
       "    }\n",
       "</style>\n",
       "<table border=\"1\" class=\"dataframe\">\n",
       "  <thead>\n",
       "    <tr style=\"text-align: right;\">\n",
       "      <th></th>\n",
       "      <th>sexo</th>\n",
       "      <th>grupo_edad</th>\n",
       "      <th>num_casos</th>\n",
       "      <th>num_hosp</th>\n",
       "      <th>num_uci</th>\n",
       "      <th>num_def</th>\n",
       "    </tr>\n",
       "  </thead>\n",
       "  <tbody>\n",
       "    <tr>\n",
       "      <th>0</th>\n",
       "      <td>H</td>\n",
       "      <td>0-9</td>\n",
       "      <td>551068</td>\n",
       "      <td>3356</td>\n",
       "      <td>177</td>\n",
       "      <td>15</td>\n",
       "    </tr>\n",
       "    <tr>\n",
       "      <th>1</th>\n",
       "      <td>H</td>\n",
       "      <td>10-19</td>\n",
       "      <td>763040</td>\n",
       "      <td>2375</td>\n",
       "      <td>192</td>\n",
       "      <td>15</td>\n",
       "    </tr>\n",
       "    <tr>\n",
       "      <th>2</th>\n",
       "      <td>H</td>\n",
       "      <td>20-29</td>\n",
       "      <td>772202</td>\n",
       "      <td>6641</td>\n",
       "      <td>527</td>\n",
       "      <td>78</td>\n",
       "    </tr>\n",
       "    <tr>\n",
       "      <th>3</th>\n",
       "      <td>H</td>\n",
       "      <td>30-39</td>\n",
       "      <td>808200</td>\n",
       "      <td>14199</td>\n",
       "      <td>1392</td>\n",
       "      <td>209</td>\n",
       "    </tr>\n",
       "    <tr>\n",
       "      <th>4</th>\n",
       "      <td>H</td>\n",
       "      <td>40-49</td>\n",
       "      <td>969947</td>\n",
       "      <td>31562</td>\n",
       "      <td>3690</td>\n",
       "      <td>749</td>\n",
       "    </tr>\n",
       "    <tr>\n",
       "      <th>5</th>\n",
       "      <td>H</td>\n",
       "      <td>50-59</td>\n",
       "      <td>705194</td>\n",
       "      <td>46558</td>\n",
       "      <td>7072</td>\n",
       "      <td>2746</td>\n",
       "    </tr>\n",
       "    <tr>\n",
       "      <th>6</th>\n",
       "      <td>H</td>\n",
       "      <td>60-69</td>\n",
       "      <td>417976</td>\n",
       "      <td>55989</td>\n",
       "      <td>10651</td>\n",
       "      <td>7444</td>\n",
       "    </tr>\n",
       "    <tr>\n",
       "      <th>7</th>\n",
       "      <td>H</td>\n",
       "      <td>70-79</td>\n",
       "      <td>262040</td>\n",
       "      <td>57114</td>\n",
       "      <td>8495</td>\n",
       "      <td>14781</td>\n",
       "    </tr>\n",
       "    <tr>\n",
       "      <th>8</th>\n",
       "      <td>H</td>\n",
       "      <td>80+</td>\n",
       "      <td>197154</td>\n",
       "      <td>65760</td>\n",
       "      <td>1409</td>\n",
       "      <td>31312</td>\n",
       "    </tr>\n",
       "    <tr>\n",
       "      <th>9</th>\n",
       "      <td>H</td>\n",
       "      <td>NC</td>\n",
       "      <td>1965</td>\n",
       "      <td>130</td>\n",
       "      <td>9</td>\n",
       "      <td>19</td>\n",
       "    </tr>\n",
       "    <tr>\n",
       "      <th>10</th>\n",
       "      <td>M</td>\n",
       "      <td>0-9</td>\n",
       "      <td>519666</td>\n",
       "      <td>2591</td>\n",
       "      <td>130</td>\n",
       "      <td>9</td>\n",
       "    </tr>\n",
       "    <tr>\n",
       "      <th>11</th>\n",
       "      <td>M</td>\n",
       "      <td>10-19</td>\n",
       "      <td>771120</td>\n",
       "      <td>2621</td>\n",
       "      <td>120</td>\n",
       "      <td>12</td>\n",
       "    </tr>\n",
       "    <tr>\n",
       "      <th>12</th>\n",
       "      <td>M</td>\n",
       "      <td>20-29</td>\n",
       "      <td>863197</td>\n",
       "      <td>8806</td>\n",
       "      <td>361</td>\n",
       "      <td>61</td>\n",
       "    </tr>\n",
       "    <tr>\n",
       "      <th>13</th>\n",
       "      <td>M</td>\n",
       "      <td>30-39</td>\n",
       "      <td>965945</td>\n",
       "      <td>16152</td>\n",
       "      <td>956</td>\n",
       "      <td>140</td>\n",
       "    </tr>\n",
       "    <tr>\n",
       "      <th>14</th>\n",
       "      <td>M</td>\n",
       "      <td>40-49</td>\n",
       "      <td>1131344</td>\n",
       "      <td>20921</td>\n",
       "      <td>1557</td>\n",
       "      <td>419</td>\n",
       "    </tr>\n",
       "    <tr>\n",
       "      <th>15</th>\n",
       "      <td>M</td>\n",
       "      <td>50-59</td>\n",
       "      <td>796494</td>\n",
       "      <td>29699</td>\n",
       "      <td>2911</td>\n",
       "      <td>1269</td>\n",
       "    </tr>\n",
       "    <tr>\n",
       "      <th>16</th>\n",
       "      <td>M</td>\n",
       "      <td>60-69</td>\n",
       "      <td>451393</td>\n",
       "      <td>35410</td>\n",
       "      <td>4622</td>\n",
       "      <td>3055</td>\n",
       "    </tr>\n",
       "    <tr>\n",
       "      <th>17</th>\n",
       "      <td>M</td>\n",
       "      <td>70-79</td>\n",
       "      <td>288410</td>\n",
       "      <td>40764</td>\n",
       "      <td>4026</td>\n",
       "      <td>7452</td>\n",
       "    </tr>\n",
       "    <tr>\n",
       "      <th>18</th>\n",
       "      <td>M</td>\n",
       "      <td>80+</td>\n",
       "      <td>335391</td>\n",
       "      <td>76670</td>\n",
       "      <td>1027</td>\n",
       "      <td>33793</td>\n",
       "    </tr>\n",
       "    <tr>\n",
       "      <th>19</th>\n",
       "      <td>M</td>\n",
       "      <td>NC</td>\n",
       "      <td>1764</td>\n",
       "      <td>109</td>\n",
       "      <td>5</td>\n",
       "      <td>9</td>\n",
       "    </tr>\n",
       "    <tr>\n",
       "      <th>20</th>\n",
       "      <td>NC</td>\n",
       "      <td>0-9</td>\n",
       "      <td>167</td>\n",
       "      <td>9</td>\n",
       "      <td>1</td>\n",
       "      <td>0</td>\n",
       "    </tr>\n",
       "    <tr>\n",
       "      <th>21</th>\n",
       "      <td>NC</td>\n",
       "      <td>10-19</td>\n",
       "      <td>153</td>\n",
       "      <td>16</td>\n",
       "      <td>1</td>\n",
       "      <td>0</td>\n",
       "    </tr>\n",
       "    <tr>\n",
       "      <th>22</th>\n",
       "      <td>NC</td>\n",
       "      <td>20-29</td>\n",
       "      <td>326</td>\n",
       "      <td>43</td>\n",
       "      <td>0</td>\n",
       "      <td>0</td>\n",
       "    </tr>\n",
       "    <tr>\n",
       "      <th>23</th>\n",
       "      <td>NC</td>\n",
       "      <td>30-39</td>\n",
       "      <td>332</td>\n",
       "      <td>85</td>\n",
       "      <td>2</td>\n",
       "      <td>1</td>\n",
       "    </tr>\n",
       "    <tr>\n",
       "      <th>24</th>\n",
       "      <td>NC</td>\n",
       "      <td>40-49</td>\n",
       "      <td>392</td>\n",
       "      <td>113</td>\n",
       "      <td>2</td>\n",
       "      <td>1</td>\n",
       "    </tr>\n",
       "    <tr>\n",
       "      <th>25</th>\n",
       "      <td>NC</td>\n",
       "      <td>50-59</td>\n",
       "      <td>419</td>\n",
       "      <td>160</td>\n",
       "      <td>9</td>\n",
       "      <td>1</td>\n",
       "    </tr>\n",
       "    <tr>\n",
       "      <th>26</th>\n",
       "      <td>NC</td>\n",
       "      <td>60-69</td>\n",
       "      <td>291</td>\n",
       "      <td>156</td>\n",
       "      <td>12</td>\n",
       "      <td>5</td>\n",
       "    </tr>\n",
       "    <tr>\n",
       "      <th>27</th>\n",
       "      <td>NC</td>\n",
       "      <td>70-79</td>\n",
       "      <td>244</td>\n",
       "      <td>167</td>\n",
       "      <td>14</td>\n",
       "      <td>16</td>\n",
       "    </tr>\n",
       "    <tr>\n",
       "      <th>28</th>\n",
       "      <td>NC</td>\n",
       "      <td>80+</td>\n",
       "      <td>558</td>\n",
       "      <td>392</td>\n",
       "      <td>32</td>\n",
       "      <td>46</td>\n",
       "    </tr>\n",
       "    <tr>\n",
       "      <th>29</th>\n",
       "      <td>NC</td>\n",
       "      <td>NC</td>\n",
       "      <td>6152</td>\n",
       "      <td>1346</td>\n",
       "      <td>150</td>\n",
       "      <td>179</td>\n",
       "    </tr>\n",
       "  </tbody>\n",
       "</table>\n",
       "</div>"
      ],
      "text/plain": [
       "   sexo grupo_edad  num_casos  num_hosp  num_uci  num_def\n",
       "0     H        0-9     551068      3356      177       15\n",
       "1     H      10-19     763040      2375      192       15\n",
       "2     H      20-29     772202      6641      527       78\n",
       "3     H      30-39     808200     14199     1392      209\n",
       "4     H      40-49     969947     31562     3690      749\n",
       "5     H      50-59     705194     46558     7072     2746\n",
       "6     H      60-69     417976     55989    10651     7444\n",
       "7     H      70-79     262040     57114     8495    14781\n",
       "8     H        80+     197154     65760     1409    31312\n",
       "9     H         NC       1965       130        9       19\n",
       "10    M        0-9     519666      2591      130        9\n",
       "11    M      10-19     771120      2621      120       12\n",
       "12    M      20-29     863197      8806      361       61\n",
       "13    M      30-39     965945     16152      956      140\n",
       "14    M      40-49    1131344     20921     1557      419\n",
       "15    M      50-59     796494     29699     2911     1269\n",
       "16    M      60-69     451393     35410     4622     3055\n",
       "17    M      70-79     288410     40764     4026     7452\n",
       "18    M        80+     335391     76670     1027    33793\n",
       "19    M         NC       1764       109        5        9\n",
       "20   NC        0-9        167         9        1        0\n",
       "21   NC      10-19        153        16        1        0\n",
       "22   NC      20-29        326        43        0        0\n",
       "23   NC      30-39        332        85        2        1\n",
       "24   NC      40-49        392       113        2        1\n",
       "25   NC      50-59        419       160        9        1\n",
       "26   NC      60-69        291       156       12        5\n",
       "27   NC      70-79        244       167       14       16\n",
       "28   NC        80+        558       392       32       46\n",
       "29   NC         NC       6152      1346      150      179"
      ]
     },
     "execution_count": 9,
     "metadata": {},
     "output_type": "execute_result"
    }
   ],
   "source": [
    "covid2"
   ]
  },
  {
   "cell_type": "code",
   "execution_count": 10,
   "id": "ab3fc661",
   "metadata": {},
   "outputs": [
    {
     "name": "stderr",
     "output_type": "stream",
     "text": [
      "/tmp/ipykernel_83338/1743903409.py:4: UserWarning: Boolean Series key will be reindexed to match DataFrame index.\n"
     ]
    }
   ],
   "source": [
    "mascara_sexo = covid2['sexo'] != 'NC'\n",
    "mascara_grupo_edad = covid2['grupo_edad'] != 'NC'\n",
    "covid2 = covid2[mascara_sexo]\n",
    "covid2 = covid2[mascara_grupo_edad]\n"
   ]
  },
  {
   "cell_type": "code",
   "execution_count": 11,
   "id": "2fc6c9f9",
   "metadata": {},
   "outputs": [
    {
     "data": {
      "text/html": [
       "<div>\n",
       "<style scoped>\n",
       "    .dataframe tbody tr th:only-of-type {\n",
       "        vertical-align: middle;\n",
       "    }\n",
       "\n",
       "    .dataframe tbody tr th {\n",
       "        vertical-align: top;\n",
       "    }\n",
       "\n",
       "    .dataframe thead th {\n",
       "        text-align: right;\n",
       "    }\n",
       "</style>\n",
       "<table border=\"1\" class=\"dataframe\">\n",
       "  <thead>\n",
       "    <tr style=\"text-align: right;\">\n",
       "      <th></th>\n",
       "      <th>sexo</th>\n",
       "      <th>grupo_edad</th>\n",
       "      <th>num_casos</th>\n",
       "      <th>num_hosp</th>\n",
       "      <th>num_uci</th>\n",
       "      <th>num_def</th>\n",
       "    </tr>\n",
       "  </thead>\n",
       "  <tbody>\n",
       "    <tr>\n",
       "      <th>0</th>\n",
       "      <td>H</td>\n",
       "      <td>0-9</td>\n",
       "      <td>551068</td>\n",
       "      <td>3356</td>\n",
       "      <td>177</td>\n",
       "      <td>15</td>\n",
       "    </tr>\n",
       "    <tr>\n",
       "      <th>1</th>\n",
       "      <td>H</td>\n",
       "      <td>10-19</td>\n",
       "      <td>763040</td>\n",
       "      <td>2375</td>\n",
       "      <td>192</td>\n",
       "      <td>15</td>\n",
       "    </tr>\n",
       "    <tr>\n",
       "      <th>2</th>\n",
       "      <td>H</td>\n",
       "      <td>20-29</td>\n",
       "      <td>772202</td>\n",
       "      <td>6641</td>\n",
       "      <td>527</td>\n",
       "      <td>78</td>\n",
       "    </tr>\n",
       "    <tr>\n",
       "      <th>3</th>\n",
       "      <td>H</td>\n",
       "      <td>30-39</td>\n",
       "      <td>808200</td>\n",
       "      <td>14199</td>\n",
       "      <td>1392</td>\n",
       "      <td>209</td>\n",
       "    </tr>\n",
       "    <tr>\n",
       "      <th>4</th>\n",
       "      <td>H</td>\n",
       "      <td>40-49</td>\n",
       "      <td>969947</td>\n",
       "      <td>31562</td>\n",
       "      <td>3690</td>\n",
       "      <td>749</td>\n",
       "    </tr>\n",
       "    <tr>\n",
       "      <th>5</th>\n",
       "      <td>H</td>\n",
       "      <td>50-59</td>\n",
       "      <td>705194</td>\n",
       "      <td>46558</td>\n",
       "      <td>7072</td>\n",
       "      <td>2746</td>\n",
       "    </tr>\n",
       "    <tr>\n",
       "      <th>6</th>\n",
       "      <td>H</td>\n",
       "      <td>60-69</td>\n",
       "      <td>417976</td>\n",
       "      <td>55989</td>\n",
       "      <td>10651</td>\n",
       "      <td>7444</td>\n",
       "    </tr>\n",
       "    <tr>\n",
       "      <th>7</th>\n",
       "      <td>H</td>\n",
       "      <td>70-79</td>\n",
       "      <td>262040</td>\n",
       "      <td>57114</td>\n",
       "      <td>8495</td>\n",
       "      <td>14781</td>\n",
       "    </tr>\n",
       "    <tr>\n",
       "      <th>8</th>\n",
       "      <td>H</td>\n",
       "      <td>80+</td>\n",
       "      <td>197154</td>\n",
       "      <td>65760</td>\n",
       "      <td>1409</td>\n",
       "      <td>31312</td>\n",
       "    </tr>\n",
       "    <tr>\n",
       "      <th>10</th>\n",
       "      <td>M</td>\n",
       "      <td>0-9</td>\n",
       "      <td>519666</td>\n",
       "      <td>2591</td>\n",
       "      <td>130</td>\n",
       "      <td>9</td>\n",
       "    </tr>\n",
       "    <tr>\n",
       "      <th>11</th>\n",
       "      <td>M</td>\n",
       "      <td>10-19</td>\n",
       "      <td>771120</td>\n",
       "      <td>2621</td>\n",
       "      <td>120</td>\n",
       "      <td>12</td>\n",
       "    </tr>\n",
       "    <tr>\n",
       "      <th>12</th>\n",
       "      <td>M</td>\n",
       "      <td>20-29</td>\n",
       "      <td>863197</td>\n",
       "      <td>8806</td>\n",
       "      <td>361</td>\n",
       "      <td>61</td>\n",
       "    </tr>\n",
       "    <tr>\n",
       "      <th>13</th>\n",
       "      <td>M</td>\n",
       "      <td>30-39</td>\n",
       "      <td>965945</td>\n",
       "      <td>16152</td>\n",
       "      <td>956</td>\n",
       "      <td>140</td>\n",
       "    </tr>\n",
       "    <tr>\n",
       "      <th>14</th>\n",
       "      <td>M</td>\n",
       "      <td>40-49</td>\n",
       "      <td>1131344</td>\n",
       "      <td>20921</td>\n",
       "      <td>1557</td>\n",
       "      <td>419</td>\n",
       "    </tr>\n",
       "    <tr>\n",
       "      <th>15</th>\n",
       "      <td>M</td>\n",
       "      <td>50-59</td>\n",
       "      <td>796494</td>\n",
       "      <td>29699</td>\n",
       "      <td>2911</td>\n",
       "      <td>1269</td>\n",
       "    </tr>\n",
       "    <tr>\n",
       "      <th>16</th>\n",
       "      <td>M</td>\n",
       "      <td>60-69</td>\n",
       "      <td>451393</td>\n",
       "      <td>35410</td>\n",
       "      <td>4622</td>\n",
       "      <td>3055</td>\n",
       "    </tr>\n",
       "    <tr>\n",
       "      <th>17</th>\n",
       "      <td>M</td>\n",
       "      <td>70-79</td>\n",
       "      <td>288410</td>\n",
       "      <td>40764</td>\n",
       "      <td>4026</td>\n",
       "      <td>7452</td>\n",
       "    </tr>\n",
       "    <tr>\n",
       "      <th>18</th>\n",
       "      <td>M</td>\n",
       "      <td>80+</td>\n",
       "      <td>335391</td>\n",
       "      <td>76670</td>\n",
       "      <td>1027</td>\n",
       "      <td>33793</td>\n",
       "    </tr>\n",
       "  </tbody>\n",
       "</table>\n",
       "</div>"
      ],
      "text/plain": [
       "   sexo grupo_edad  num_casos  num_hosp  num_uci  num_def\n",
       "0     H        0-9     551068      3356      177       15\n",
       "1     H      10-19     763040      2375      192       15\n",
       "2     H      20-29     772202      6641      527       78\n",
       "3     H      30-39     808200     14199     1392      209\n",
       "4     H      40-49     969947     31562     3690      749\n",
       "5     H      50-59     705194     46558     7072     2746\n",
       "6     H      60-69     417976     55989    10651     7444\n",
       "7     H      70-79     262040     57114     8495    14781\n",
       "8     H        80+     197154     65760     1409    31312\n",
       "10    M        0-9     519666      2591      130        9\n",
       "11    M      10-19     771120      2621      120       12\n",
       "12    M      20-29     863197      8806      361       61\n",
       "13    M      30-39     965945     16152      956      140\n",
       "14    M      40-49    1131344     20921     1557      419\n",
       "15    M      50-59     796494     29699     2911     1269\n",
       "16    M      60-69     451393     35410     4622     3055\n",
       "17    M      70-79     288410     40764     4026     7452\n",
       "18    M        80+     335391     76670     1027    33793"
      ]
     },
     "execution_count": 11,
     "metadata": {},
     "output_type": "execute_result"
    }
   ],
   "source": [
    "covid2"
   ]
  },
  {
   "cell_type": "code",
   "execution_count": 17,
   "id": "19f2b0ad",
   "metadata": {},
   "outputs": [
    {
     "data": {
      "image/png": "[encoded data removed]",
      "text/plain": [
       "<Figure size 640x480 with 1 Axes>"
      ]
     },
     "metadata": {},
     "output_type": "display_data"
    },
    {
     "data": {
      "text/plain": [
       "<ggplot: (8748252574006)>"
      ]
     },
     "execution_count": 17,
     "metadata": {},
     "output_type": "execute_result"
    }
   ],
   "source": [
    "(\n",
    "ggplot(covid2)\n",
    "+ aes(x = 'grupo_edad',\n",
    "      y = 'num_hosp')\n",
    "    + geom_bar(stat = \"identity\")\n",
    ")"
   ]
  },
  {
   "cell_type": "code",
   "execution_count": 18,
   "id": "b5a3cd2f",
   "metadata": {
    "scrolled": true
   },
   "outputs": [
    {
     "data": {
      "image/png": "[encoded data removed]",
      "text/plain": [
       "<Figure size 640x480 with 1 Axes>"
      ]
     },
     "metadata": {},
     "output_type": "display_data"
    },
    {
     "data": {
      "text/plain": [
       "<ggplot: (8748252592690)>"
      ]
     },
     "execution_count": 18,
     "metadata": {},
     "output_type": "execute_result"
    }
   ],
   "source": [
    "(\n",
    "    ggplot(covid2)  # What data to use\n",
    "    + aes('grupo_edad', \n",
    "          'num_hosp',\n",
    "          fill = 'sexo')  # What variable to use\n",
    "    + geom_bar(stat = \"identity\",\n",
    "              position = 'dodge') # Geometric object to use for drawing\n",
    "   \n",
    ")"
   ]
  },
  {
   "cell_type": "code",
   "execution_count": 19,
   "id": "b3993573",
   "metadata": {
    "scrolled": true
   },
   "outputs": [
    {
     "data": {
      "image/png": "[encoded data removed]",
      "text/plain": [
       "<Figure size 640x480 with 1 Axes>"
      ]
     },
     "metadata": {},
     "output_type": "display_data"
    },
    {
     "data": {
      "text/plain": [
       "<ggplot: (8748252532004)>"
      ]
     },
     "execution_count": 19,
     "metadata": {},
     "output_type": "execute_result"
    }
   ],
   "source": [
    "(\n",
    "    ggplot(covid2)  # What data to use\n",
    "    + aes('grupo_edad', \n",
    "          'num_casos',\n",
    "          fill = 'sexo')  # What variable to use\n",
    "    + geom_bar(stat = \"identity\",\n",
    "              position = 'dodge') # Geometric object to use for drawing\n",
    "   \n",
    ")"
   ]
  },
  {
   "cell_type": "code",
   "execution_count": 20,
   "id": "f05728ca",
   "metadata": {
    "scrolled": true
   },
   "outputs": [],
   "source": [
    "grafico = (\n",
    "    ggplot(covid2)  # What data to use\n",
    "    + aes('grupo_edad', \n",
    "          'num_casos',\n",
    "          fill = 'sexo')  # What variable to use\n",
    "    + geom_bar(stat = \"identity\",\n",
    "              position = 'dodge') # Geometric object to use for drawing\n",
    "   \n",
    ")"
   ]
  },
  {
   "cell_type": "code",
   "execution_count": 22,
   "id": "3e6626b0",
   "metadata": {},
   "outputs": [],
   "source": [
    "grafico2 = grafico + ( coord_flip())"
   ]
  },
  {
   "cell_type": "code",
   "execution_count": 23,
   "id": "3b825e6c",
   "metadata": {},
   "outputs": [
    {
     "data": {
      "image/png": "[encoded data removed]",
      "text/plain": [
       "<Figure size 640x480 with 1 Axes>"
      ]
     },
     "metadata": {},
     "output_type": "display_data"
    },
    {
     "data": {
      "text/plain": [
       "<ggplot: (8748252378698)>"
      ]
     },
     "execution_count": 23,
     "metadata": {},
     "output_type": "execute_result"
    }
   ],
   "source": [
    "grafico2"
   ]
  },
  {
   "cell_type": "code",
   "execution_count": null,
   "id": "a0229873",
   "metadata": {
    "scrolled": true
   },
   "outputs": [],
   "source": [
    "(\n",
    "    ggplot(covid2)  # What data to use\n",
    "    + aes('grupo_edad', \n",
    "          'num_uci',\n",
    "          fill = 'sexo')  # What variable to use\n",
    "    + geom_bar(stat = \"identity\",\n",
    "              position = 'dodge') # Geometric object to use for drawing\n",
    "    + coord_flip()\n",
    "    + scale_fill_manual(values = (\"blue\", \"#fbb4ae\"))\n",
    ")"
   ]
  },
  {
   "cell_type": "code",
   "execution_count": null,
   "id": "f3871a74",
   "metadata": {},
   "outputs": [],
   "source": []
  },
  {
   "cell_type": "code",
   "execution_count": null,
   "id": "f7dbd592",
   "metadata": {
    "scrolled": true
   },
   "outputs": [],
   "source": [
    "(\n",
    "    ggplot(covid2)  # What data to use\n",
    "    + aes('grupo_edad', \n",
    "          'num_uci',\n",
    "          fill = 'sexo')  # What variable to use\n",
    "    + geom_bar(position = \"dodge\",\n",
    "               stat = \"identity\")\n",
    "    + coord_flip()# Geometric object to use for drawing\n",
    "   \n",
    ")"
   ]
  },
  {
   "cell_type": "code",
   "execution_count": null,
   "id": "77ec565e",
   "metadata": {
    "scrolled": true
   },
   "outputs": [],
   "source": [
    "(\n",
    "    ggplot(covid2)  # What data to use\n",
    "    + aes('grupo_edad', \n",
    "          'num_hosp',\n",
    "          fill = 'sexo')  # What variable to use\n",
    "    + geom_bar(position = \"dodge\",\n",
    "               stat = \"identity\") # Geometric object to use for drawing\n",
    "   \n",
    ")"
   ]
  },
  {
   "cell_type": "code",
   "execution_count": null,
   "id": "003973fe",
   "metadata": {
    "scrolled": true
   },
   "outputs": [],
   "source": [
    "(\n",
    "    ggplot(covid2)  # What data to use\n",
    "    + aes('grupo_edad', \n",
    "          'num_def',\n",
    "          fill = 'sexo')  # What variable to use\n",
    "    + geom_bar(position = \"dodge\",\n",
    "               stat = \"identity\")\n",
    "    + scale_y_log10()# Geometric object to use for drawing\n",
    "   \n",
    ")"
   ]
  },
  {
   "cell_type": "markdown",
   "id": "4b87f0f1",
   "metadata": {},
   "source": [
    "## 2.2 Olas (series temporales)\n",
    "\n"
   ]
  },
  {
   "cell_type": "code",
   "execution_count": null,
   "id": "33ba119c",
   "metadata": {},
   "outputs": [],
   "source": [
    "covid3 = covid.groupby(['sexo', 'fecha']).sum()\n",
    "covid3 = pd.DataFrame(covid3.to_records())\n",
    "mascara_sexo = covid3['sexo'] != 'NC'\n",
    "#mascara_grupo_edad = covid3['grupo_edad'] != 'NC'\n",
    "covid3 = covid3[mascara_sexo]\n",
    "#covid2 = covid3[mascara_grupo_edad]\n"
   ]
  },
  {
   "cell_type": "code",
   "execution_count": null,
   "id": "7fe80cfc",
   "metadata": {},
   "outputs": [],
   "source": [
    "covid3.head()"
   ]
  },
  {
   "cell_type": "code",
   "execution_count": null,
   "id": "5a4b38e4",
   "metadata": {},
   "outputs": [],
   "source": [
    "(\n",
    "    ggplot(covid3)  # What data to use\n",
    "    + aes(x = \"fecha\", \n",
    "          y = \"num_casos\")  # What variable to use\n",
    "    + geom_line() \n",
    "    + theme(axis_text_x = element_text(angle = 45, \n",
    "                                       hjust = 1,\n",
    "                                       size = 10))# Geometric object to use for drawing\n",
    ")"
   ]
  },
  {
   "cell_type": "code",
   "execution_count": null,
   "id": "32729457",
   "metadata": {},
   "outputs": [],
   "source": [
    "g = (\n",
    "    ggplot(covid3)  # What data to use\n",
    "    + aes(x = \"fecha\", \n",
    "          y = \"num_uci\",\n",
    "         color = 'sexo')  # What variable to use\n",
    "    + geom_smooth(method = \"loess\", \n",
    "                  span = 0.05)  # Geometric object to use for drawing\n",
    ")"
   ]
  },
  {
   "cell_type": "code",
   "execution_count": null,
   "id": "e5a8144e",
   "metadata": {},
   "outputs": [],
   "source": [
    "g"
   ]
  },
  {
   "cell_type": "code",
   "execution_count": null,
   "id": "94cb5b57",
   "metadata": {},
   "outputs": [],
   "source": [
    "g = g + theme(figure_size=(12, 12))"
   ]
  },
  {
   "cell_type": "code",
   "execution_count": null,
   "id": "0649e80a",
   "metadata": {},
   "outputs": [],
   "source": [
    "g"
   ]
  },
  {
   "cell_type": "code",
   "execution_count": null,
   "id": "1b6d8fea",
   "metadata": {
    "scrolled": true
   },
   "outputs": [],
   "source": [
    "g.save('olas01.png', dpi=600)"
   ]
  },
  {
   "cell_type": "code",
   "execution_count": null,
   "id": "a6e5886f",
   "metadata": {},
   "outputs": [],
   "source": [
    "g + theme(axis_text_x = element_text(angle = -45, \n",
    "                                     vjust = 1))"
   ]
  },
  {
   "cell_type": "code",
   "execution_count": null,
   "id": "67c5a254",
   "metadata": {},
   "outputs": [],
   "source": [
    "(\n",
    "    ggplot(covid3)  # What data to use\n",
    "    + aes(x = \"fecha\", \n",
    "          y = \"num_casos\",\n",
    "          color = 'sexo')  # What variable to use\n",
    "    + geom_line()  # Geometric object to use for drawing\n",
    ")"
   ]
  },
  {
   "cell_type": "code",
   "execution_count": null,
   "id": "5d939139",
   "metadata": {},
   "outputs": [],
   "source": [
    "(\n",
    "    ggplot(covid3)  # What data to use\n",
    "    + aes(x = \"fecha\", \n",
    "          y = \"num_casos\",\n",
    "          color = 'sexo')  # What variable to use\n",
    "    + geom_smooth(method = \"loess\", \n",
    "                  span = 0.05)  # Geometric object to use for drawing\n",
    ")"
   ]
  },
  {
   "cell_type": "code",
   "execution_count": null,
   "id": "76e096e5",
   "metadata": {},
   "outputs": [],
   "source": [
    "(\n",
    "    ggplot(covid3)  # What data to use\n",
    "    + aes(x = \"fecha\", \n",
    "          y = \"num_uci\",\n",
    "          color = 'sexo')  # What variable to use\n",
    "    + geom_smooth(method = \"lowess\", \n",
    "                  span = 0.15)  # Geometric object to use for drawing\n",
    ")"
   ]
  },
  {
   "cell_type": "code",
   "execution_count": null,
   "id": "fa172fd3",
   "metadata": {},
   "outputs": [],
   "source": [
    "(\n",
    "    ggplot(covid3)  # What data to use\n",
    "    + aes(x = \"fecha\", \n",
    "          y = \"num_def\",\n",
    "          color = 'sexo')  # What variable to use\n",
    "    + geom_smooth(method = \"loess\", \n",
    "                  span = 0.05)  # Geometric object to use for drawing\n",
    ")"
   ]
  },
  {
   "cell_type": "code",
   "execution_count": null,
   "id": "8fc0f5c2",
   "metadata": {},
   "outputs": [],
   "source": []
  }
 ],
 "metadata": {
  "kernelspec": {
   "display_name": "Python 3 (ipykernel)",
   "language": "python",
   "name": "python3"
  },
  "language_info": {
   "codemirror_mode": {
    "name": "ipython",
    "version": 3
   },
   "file_extension": ".py",
   "mimetype": "text/x-python",
   "name": "python",
   "nbconvert_exporter": "python",
   "pygments_lexer": "ipython3",
   "version": "3.10.6"
  }
 },
 "nbformat": 4,
 "nbformat_minor": 5
}
