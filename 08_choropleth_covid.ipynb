{
 "cells": [
  {
   "cell_type": "markdown",
   "id": "d4ee7e9f",
   "metadata": {},
   "source": [
    "# Visualización Avanzada\n",
    "En el presente trabajo se analizarán los datos de COVID-19 que se obtienen a partir de la declaración de los casos a la Red Nacional de Vigilancia Epidemiológica (RENAVE) a través de la plataforma informática vía Web SiViES (Sistema de Vigilancia de España) que gestiona el Centro Nacional de Epidemiología (CNE). Estos datos corresponden al periodo comprendido entre el inicio de la pandemia (enero-2020) hasta el 28 de marzo de 2022.\n",
    "\n",
    "Para realizar algunos cálculos más específicos utilizaremos datos del INE, específicamente de población por provincia y franja etaria de los últimos tres años (2020, 2021 y 2022) y los datos de polígonos que correspoden a las representaciones gráficas de las provincias de España.\n",
    "\n",
    "**Para empezar, importamos las librerías que utilizaremos para este análisis.**"
   ]
  },
  {
   "cell_type": "code",
   "execution_count": null,
   "id": "58333eb0",
   "metadata": {},
   "outputs": [],
   "source": [
    "%pip install geopandas"
   ]
  },
  {
   "cell_type": "code",
   "execution_count": null,
   "id": "fb33ab20",
   "metadata": {},
   "outputs": [],
   "source": [
    "import pandas as pd\n",
    "import matplotlib.pyplot as plt\n",
    "%matplotlib inline\n",
    "import seaborn as sns\n",
    "import geopandas as gpd\n",
    "import matplotlib.pyplot as plt\n",
    "import warnings\n",
    "warnings.filterwarnings(\"ignore\")\n",
    "from datetime import date\n",
    "from datetime import datetime\n",
    "import plotly.express as px\n",
    "import plotnine\n",
    "from plotnine import *\n",
    "import dash\n",
    "import dash_core_components as dcc\n",
    "import dash_html_components as html\n",
    "import plotly.graph_objects as go\n",
    "import folium"
   ]
  },
  {
   "cell_type": "markdown",
   "id": "c82da8d0",
   "metadata": {},
   "source": [
    "### Lectura de datasets\n",
    "Realizamos la lectura de los datasets de Covid y provincias (previamente descargados) y realizamos unos primeros ajustes a los mismos.\n",
    "\n",
    "Los archivos se encuentran en el mismo directorio del presente notebook."
   ]
  },
  {
   "cell_type": "code",
   "execution_count": null,
   "id": "b6cb602f",
   "metadata": {},
   "outputs": [],
   "source": [
    "covid = pd.read_csv('https://cnecovid.isciii.es/covid19/resources/casos_hosp_uci_def_sexo_edad_provres.csv')"
   ]
  },
  {
   "cell_type": "code",
   "execution_count": null,
   "id": "a144eb95",
   "metadata": {
    "scrolled": true
   },
   "outputs": [],
   "source": [
    "#covid = pd.read_csv(r'casos_hosp_uci_def_sexo_edad_provres.csv')\n",
    "prv = pd.read_csv(r'provinces_es.csv')\n",
    "geo_prv = r'SP_provincias.geojson'\n",
    "map = gpd.read_file(geo_prv)"
   ]
  },
  {
   "cell_type": "code",
   "execution_count": null,
   "id": "5bdfa5d6",
   "metadata": {},
   "outputs": [],
   "source": [
    "map['postal_code'] = pd.to_numeric(map['CC_2'])\n",
    "map.drop(['CC_2', 'NAT2018'], axis = 'columns', inplace=True)\n",
    "map.rename(columns={'NAME_1':'comunidad_autonoma',\n",
    "                    'NAME_2':'provincia'}, inplace = True)"
   ]
  },
  {
   "cell_type": "markdown",
   "id": "88e04c54",
   "metadata": {},
   "source": [
    "**Realizamos una pre-visualización del contenido**"
   ]
  },
  {
   "cell_type": "code",
   "execution_count": null,
   "id": "bc35e412",
   "metadata": {},
   "outputs": [],
   "source": [
    "covid.head()"
   ]
  },
  {
   "cell_type": "code",
   "execution_count": null,
   "id": "44e134a6",
   "metadata": {},
   "outputs": [],
   "source": [
    "prv.head()"
   ]
  },
  {
   "cell_type": "code",
   "execution_count": null,
   "id": "d89478a0",
   "metadata": {},
   "outputs": [],
   "source": [
    "map.head()"
   ]
  },
  {
   "cell_type": "markdown",
   "id": "1c6db4f8",
   "metadata": {},
   "source": [
    "**Empezamos uniendo nuestros datasets de covid y provincias**"
   ]
  },
  {
   "cell_type": "code",
   "execution_count": null,
   "id": "c18bfed4",
   "metadata": {},
   "outputs": [],
   "source": [
    "cov_prv = covid.merge(prv, \n",
    "                      how='left', \n",
    "                      left_on='provincia_iso', \n",
    "                      right_on='code', \n",
    "                      suffixes=('_cov', '_prv'))"
   ]
  },
  {
   "cell_type": "markdown",
   "id": "30b238aa",
   "metadata": {},
   "source": [
    "**Realizamos algunos formateos a los datos, para que nos ayuden en las visualizaciones posteriores**"
   ]
  },
  {
   "cell_type": "code",
   "execution_count": null,
   "id": "7387ac8c",
   "metadata": {},
   "outputs": [],
   "source": [
    "cov_prv['periodo'] = cov_prv['fecha'].str.slice(0, 4)\n",
    "cov_prv['periodo'] = pd.to_numeric(cov_prv['periodo'])\n",
    "cov_prv['fecha'] = pd.to_datetime(covid['fecha'], \n",
    "                                  format = '%Y-%m-%d', \n",
    "                                  errors = 'coerce')\n",
    "cov_prv['semana'] = cov_prv['fecha'].dt.week\n",
    "\n",
    "cov_prv.drop(['name', 'phone_code', 'iso2'], \n",
    "             axis = 'columns', inplace=True)\n",
    "cov_prv.rename(columns={'grupo_edad': 'franja_etaria'}, \n",
    "               inplace=True)\n",
    "cov_prv.head()"
   ]
  },
  {
   "cell_type": "markdown",
   "id": "61caa053",
   "metadata": {},
   "source": [
    "**Realizamos la importación de los datos de población de cada provincia, correspondientes a los años 2020, 2021 y 2022.**\n",
    "\n",
    "**Luego, unimos las tres fuentes en un único dataset.**"
   ]
  },
  {
   "cell_type": "code",
   "execution_count": null,
   "id": "750268bc",
   "metadata": {},
   "outputs": [],
   "source": [
    "pob_esp2020 = pd.read_csv(r'PoblacionEspana-Provincia_2020.csv', \n",
    "                      sep=';', \n",
    "                      encoding='latin-1')\n",
    "pob_esp2021 = pd.read_csv(r'PoblacionEspana-Provincia_2021.csv', \n",
    "                      sep=';', \n",
    "                      encoding='latin-1')\n",
    "pob_esp2022 = pd.read_csv(r'PoblacionEspana-Provincia_2022.csv', \n",
    "                      sep=';', \n",
    "                      encoding='latin-1')\n",
    "pob_esp = pd.concat([pob_esp2020, pob_esp2021, pob_esp2022])\n",
    "pob_esp.head(3)"
   ]
  },
  {
   "cell_type": "markdown",
   "id": "2d54bbab",
   "metadata": {},
   "source": [
    "**A continuación, realizamos algunos formateos al dataset para dejarlo a punto para el análisis**"
   ]
  },
  {
   "cell_type": "code",
   "execution_count": null,
   "id": "78ecaca5",
   "metadata": {},
   "outputs": [],
   "source": [
    "pob_esp.rename(columns={'Edad Simple': 'edad', \n",
    "                        'Provincias': 'provincia', \n",
    "                        'Sexo':'sexo', \n",
    "                        'Periodo':'periodo', \n",
    "                        'Total':'total'}, \n",
    "               inplace=True)"
   ]
  },
  {
   "cell_type": "code",
   "execution_count": null,
   "id": "e06ce0f1",
   "metadata": {},
   "outputs": [],
   "source": [
    "pob_esp['total'] = pob_esp['total'].str.replace(',','|')\n",
    "pob_esp['total'] = pob_esp['total'].str.replace('.','')\n",
    "pob_esp['total'] = pob_esp['total'].str.replace('|','.')\n",
    "pob_esp['total'] = pob_esp['total'].astype(float)"
   ]
  },
  {
   "cell_type": "code",
   "execution_count": null,
   "id": "82c0c975",
   "metadata": {},
   "outputs": [],
   "source": [
    "pob_esp['postal_code'] = pob_esp['provincia'].str.slice(0, 2)\n",
    "pob_esp['postal_code'] = pd.to_numeric(pob_esp['postal_code'])"
   ]
  },
  {
   "cell_type": "code",
   "execution_count": null,
   "id": "70ed7569",
   "metadata": {},
   "outputs": [],
   "source": [
    "pob_esp.loc[pob_esp['sexo'] == 'Hombres', 'sexo'] = 'H'\n",
    "pob_esp.loc[pob_esp['sexo'] == 'Mujeres', 'sexo'] = 'M'"
   ]
  },
  {
   "cell_type": "code",
   "execution_count": null,
   "id": "551913f8",
   "metadata": {},
   "outputs": [],
   "source": [
    "datos = pob_esp['edad'].str.split(expand=True)\n",
    "datos.columns = ['edad2', 'edad3', 'edad4', 'edad5']\n",
    "pob_esp = pd.concat([pob_esp, datos], axis=1)\n",
    "pob_esp.drop(['edad3', 'edad4', 'edad5'], axis = 'columns', inplace=True)\n",
    "pob_esp['edad2'] = pd.to_numeric(pob_esp['edad2'])\n",
    "pob_esp.head(3)"
   ]
  },
  {
   "cell_type": "code",
   "execution_count": null,
   "id": "c091a626",
   "metadata": {},
   "outputs": [],
   "source": [
    "def franja_etaria(edad):\n",
    "    if edad < 10:\n",
    "        franja = '0-9'\n",
    "    elif edad < 20:\n",
    "        franja = '10-19'\n",
    "    elif edad < 30:\n",
    "        franja = '20-29'\n",
    "    elif edad < 40:\n",
    "        franja = '30-39'\n",
    "    elif edad < 50:\n",
    "        franja = '40-49'\n",
    "    elif edad < 60:\n",
    "        franja = '50-59'\n",
    "    elif edad < 70:\n",
    "        franja = '60-69'\n",
    "    elif edad < 80:\n",
    "        franja = '70-79'\n",
    "    else:\n",
    "        franja = '80+'\n",
    "    return franja"
   ]
  },
  {
   "cell_type": "code",
   "execution_count": null,
   "id": "ee2afec0",
   "metadata": {},
   "outputs": [],
   "source": [
    "pob_esp['franja_etaria'] = pob_esp['edad2'].apply(franja_etaria)"
   ]
  },
  {
   "cell_type": "code",
   "execution_count": null,
   "id": "ecf104c5",
   "metadata": {},
   "outputs": [],
   "source": [
    "separado = pob_esp['periodo'].str.split(' ', expand=True)\n",
    "pob_esp['periodo']= separado[4]\n",
    "pob_esp['periodo'] = pd.to_numeric(pob_esp['periodo'])\n",
    "pob_esp.head(3)"
   ]
  },
  {
   "cell_type": "markdown",
   "id": "fa5af666",
   "metadata": {},
   "source": [
    "**A continuación, agrupamos los datos de poblacion por año y provincia, para cruzarlo con nuestro dataset de casos de Covid.**"
   ]
  },
  {
   "cell_type": "code",
   "execution_count": null,
   "id": "510e222a",
   "metadata": {},
   "outputs": [],
   "source": [
    "poblacion = pob_esp.groupby(['periodo', \n",
    "                             'provincia', \n",
    "                             'postal_code', \n",
    "                            ]).agg({'total':'sum'}).reset_index()\n",
    "poblacion.head()"
   ]
  },
  {
   "cell_type": "markdown",
   "id": "e269ebd6",
   "metadata": {},
   "source": [
    "### Incidencia Acumulada a 14 días por cada 100.000 habitantes\n",
    "Calculamos la IA a 14 días por cada cien mil habitantes."
   ]
  },
  {
   "cell_type": "code",
   "execution_count": null,
   "id": "82925fcb",
   "metadata": {},
   "outputs": [],
   "source": [
    "sum_cov = cov_prv.groupby(['fecha', \n",
    "                           'periodo']).agg({'num_casos':'sum'})"
   ]
  },
  {
   "cell_type": "code",
   "execution_count": null,
   "id": "2fe8b688",
   "metadata": {},
   "outputs": [],
   "source": [
    "def buildLaggedFeatures(s, lag=2, dropna=True):\n",
    "    if type(s) is pd.DataFrame:\n",
    "        new_dict={}\n",
    "        for col_name in s:\n",
    "            new_dict[col_name]=s[col_name]\n",
    "            for l in range(1,lag+1):\n",
    "                new_dict['%s_%d' %(col_name,l)]=s[col_name].shift(l)\n",
    "        res=pd.DataFrame(new_dict,index=s.index)\n",
    "\n",
    "    elif type(s) is pd.Series:\n",
    "        the_range=range(lag+1)\n",
    "        res=pd.concat([s.shift(i) for i in the_range],axis=1)\n",
    "        res.columns=['_%d' %i for i in the_range]\n",
    "    else:\n",
    "        print ('Only works for DataFrame or Series')\n",
    "        return None\n",
    "    if dropna:\n",
    "        return res.dropna()\n",
    "    else:\n",
    "        return res"
   ]
  },
  {
   "cell_type": "code",
   "execution_count": null,
   "id": "f4c5b3c9",
   "metadata": {},
   "outputs": [],
   "source": [
    "casos_trend = buildLaggedFeatures(sum_cov,lag=13,dropna=False)"
   ]
  },
  {
   "cell_type": "code",
   "execution_count": null,
   "id": "62610055",
   "metadata": {},
   "outputs": [],
   "source": [
    "casos_trend = casos_trend.reset_index()"
   ]
  },
  {
   "cell_type": "code",
   "execution_count": null,
   "id": "191dd689",
   "metadata": {},
   "outputs": [],
   "source": [
    "casos_trend2 = pd.melt(casos_trend, \n",
    "                       id_vars=['fecha', 'periodo'], \n",
    "                       value_vars=['num_casos', 'num_casos_1', 'num_casos_2','num_casos_3', 'num_casos_4', \n",
    "                                   'num_casos_5', 'num_casos_6', 'num_casos_7', 'num_casos_8', 'num_casos_9', \n",
    "                                   'num_casos_10', 'num_casos_11', 'num_casos_12', 'num_casos_13'])"
   ]
  },
  {
   "cell_type": "code",
   "execution_count": null,
   "id": "61ce2b1e",
   "metadata": {},
   "outputs": [],
   "source": [
    "casos_trend2 = casos_trend2.groupby(['fecha', 'periodo']).agg({'value':'sum'}).reset_index()\n",
    "pob = poblacion.groupby(['periodo']).agg({'total':'sum'}).reset_index()\n",
    "casos_trend_pob = casos_trend2.merge(pob, how='left', left_on='periodo', right_on='periodo')\n",
    "casos_trend_pob['ia14d'] = casos_trend_pob['value']/casos_trend_pob['total']*100000\n",
    "casos_trend_pob.head()"
   ]
  },
  {
   "cell_type": "markdown",
   "id": "c94cf965",
   "metadata": {},
   "source": [
    "### Incidencia acumulada total por cada cien habitantes\n",
    "Analizaremos de forma gráfica la incidencia por cada cien habitantes durante toda la pandemia.\n",
    "\n",
    "Para ello, pintaremos en un mapa las distintas provincias de España indicando este indicador en una escala de colores."
   ]
  },
  {
   "cell_type": "code",
   "execution_count": null,
   "id": "1b12e205",
   "metadata": {},
   "outputs": [],
   "source": [
    "casos_pc = cov_prv.groupby(['periodo', \n",
    "                          'postal_code']).agg({'num_casos':'sum', \n",
    "                                                'num_hosp':'sum', \n",
    "                                                'num_uci':'sum', \n",
    "                                                'num_def':'sum'\n",
    "                                               }).reset_index()\n"
   ]
  },
  {
   "cell_type": "code",
   "execution_count": null,
   "id": "f5504276",
   "metadata": {},
   "outputs": [],
   "source": [
    "casos_pob = pd.merge(casos_pc, \n",
    "              poblacion, \n",
    "              how='left', \n",
    "              left_on=['periodo', 'postal_code'], \n",
    "              right_on = ['periodo', 'postal_code'], \n",
    "              suffixes=('_x', '_y')\n",
    "             )"
   ]
  },
  {
   "cell_type": "code",
   "execution_count": null,
   "id": "d5f27bcc",
   "metadata": {},
   "outputs": [],
   "source": [
    "casos_pob = casos_pob.groupby(['postal_code']).agg({'num_casos':'sum', \n",
    "                                                    'num_hosp':'sum', \n",
    "                                                    'num_uci':'sum', \n",
    "                                                    'num_def':'sum',\n",
    "                                                    'total':'mean'\n",
    "                                                   }).reset_index()"
   ]
  },
  {
   "cell_type": "code",
   "execution_count": null,
   "id": "54824c36",
   "metadata": {},
   "outputs": [],
   "source": [
    "casos_pob['incidencia'] = casos_pob['num_casos']/casos_pob['total']*100\n",
    "casos_pob['incidencia'] = casos_pob['incidencia'].round(2)\n",
    "casos_pob['total'] = casos_pob['total'].round(2)"
   ]
  },
  {
   "cell_type": "code",
   "execution_count": null,
   "id": "0d5153a8",
   "metadata": {},
   "outputs": [],
   "source": [
    "casos_geo = casos_pob.merge(map, \n",
    "                            how='left', \n",
    "                            left_on='postal_code', \n",
    "                            right_on='postal_code')\n",
    "casos_geo.dropna(subset=['geometry'], inplace=True)\n",
    "casos_geo.rename(columns={'total':'poblacion'}, inplace = True)\n",
    "gdf = gpd.GeoDataFrame(casos_geo, geometry=casos_geo.geometry)"
   ]
  },
  {
   "cell_type": "code",
   "execution_count": null,
   "id": "7f263445",
   "metadata": {},
   "outputs": [],
   "source": [
    "!pip install folium matplotlib mapclassify"
   ]
  },
  {
   "cell_type": "code",
   "execution_count": null,
   "id": "45606fb4",
   "metadata": {},
   "outputs": [],
   "source": [
    "# IA Total por cada cien habitantes\n",
    "m = gdf.explore(\n",
    "     column=\"incidencia\",  \n",
    "     scheme=\"naturalbreaks\",  \n",
    "     legend=True, \n",
    "     k=10, \n",
    "     legend_kwds=dict(colorbar=True), \n",
    "     name=\"countries\", \n",
    "     tooltip=['comunidad_autonoma', 'provincia', 'incidencia'],\n",
    "     cmap='Oranges'\n",
    ")\n",
    "\n",
    "folium.TileLayer('stamentoner').add_to(m)  \n",
    "#folium.LayerControl().add_to(m) \n",
    "\n",
    "m  # show map"
   ]
  },
  {
   "cell_type": "markdown",
   "id": "f4698f90",
   "metadata": {},
   "source": [
    "Podemos observar en el mapa, cuáles son las provincias con mayor incidencia acumulada.\n",
    "\n",
    "Por ejemplo, provincias como Navarra, Guipúzcoa, Lleida o Palencia, cuyas IA son visiblemente mayores que las demás regiones geográficas.\n"
   ]
  },
  {
   "cell_type": "markdown",
   "id": "726979d7",
   "metadata": {},
   "source": [
    "### Conclusiones\n",
    "- La pandemia ha presentado incrementos importantes de casos en periodos específicos a lo largo del tiempo, identificándose como olas de la pandemia. La sexta (comprendida entre octubre de 2021 y marzo de 2022) especialmente ha tenido un pico importante, superando ampliamente el umbral de riesgo muy alto.\n",
    "- Cabe destacar una marcada diferencia en casos entre hombres y mujeres durante la última ola, cuyos números femeninos superan a los casos masculinos.\n",
    "- La mayor cantidad de casos se concentró en la franja de jóvenes y adultos (0 a 49 años), esto se verifica también analizando el ratio de casos de población por franja etaria. \n",
    "- Teniendo en cuenta ratios de hospitalizaciones, podemos decir que la franja más afectada es la de 60 años o más. Cabe mencionar también que en casi todas las franjas etarias, vemos un mayor ratio de hombres hospitalizados, incrementándose a mayor edad. \n",
    "- En ingreso a UCI notamos mayores ratios en hombres que en mujeres, especialmente en el rango 60-79 años.\n",
    "- La letalidad es claramente mayor en la franja de 60 años en adelante, siendo mayor en hombres que en mujeres.\n",
    "- Analizando la incidencia acumulada por cada cien habitantes, destacamos en el top 3 con mayor IA a las provincias de Navarra, Guipúzcoa y Lleida."
   ]
  }
 ],
 "metadata": {
  "kernelspec": {
   "display_name": "Python 3 (ipykernel)",
   "language": "python",
   "name": "python3"
  },
  "language_info": {
   "codemirror_mode": {
    "name": "ipython",
    "version": 3
   },
   "file_extension": ".py",
   "mimetype": "text/x-python",
   "name": "python",
   "nbconvert_exporter": "python",
   "pygments_lexer": "ipython3",
   "version": "3.10.6"
  }
 },
 "nbformat": 4,
 "nbformat_minor": 5
}
